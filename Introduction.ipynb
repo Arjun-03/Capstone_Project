{
 "cells": [
  {
   "cell_type": "markdown",
   "metadata": {},
   "source": [
    "# THE BATTLE OF NEIGHBORHOODS\n",
    "\n",
    "\n",
    "## INTRODUCTION\n",
    "\n",
    "\n",
    "### Background\n",
    "\n",
    "   Canada is a country of migrants. It has one of the highest rates of migration intensity of any country in the world (second only to Australia). In 2019, over three quarters of a million temporary residents and over a quarter of a million permanent residents arrived in Canada.\n",
    "\n",
    "In recent years, migration patterns to Canada have changed rapidly. While permanent migration has remained remarkably steady, temporary migration has grown rapidly over the past decade. Particularly, temporary migration of foreign workers has quadrupled between 2000 and 2019, with a small dip in 2015.\n",
    "\n",
    "Asian countries are the fastest growing senders of migrants to Canada, in particular from South Asia and South East Asia. Specifically, India (29%), China (12%), and the Philippines (4%) were the largest sources of origins for new migrants to Canada in 2019 and together provide over a third of all Canada’s incoming residents.\n",
    "\n",
    "Globally, Canada’s international student programs are the largest driver for temporary migration to Canada accounting for 400,995 temporary residents in 2019. Further, the increase in temporary migrants to Canada is almost exclusively due to substantially rising numbers of international students coming from the low and middle income countries. India provides the most striking example, with a more than eighty-fold increase in international students between 2000 and 2019.\n",
    "\n",
    "\n",
    "### Problem\n",
    "\n",
    "   Migration of people from different parts of the world to different states in Canada has increased over the years. So, they need a lot of research for finding affordable housing prices and reputed schools for their children. Not only that, they also prefer easy to cafeterias, schools, supermarkets, medical shops, grocery shops, malls, theatres, hospitals, etc.\n",
    "\n",
    "This project intends to create an analysis of features for people who are migrating to Scarborough in search of the best neighborhood as a relative analysis between neighborhoods. The highlights include median housing price and better school according to ratings, crime rates of that particular area, road connectivity, weather conditions, good management for an emergency, water resources both fresh and wastewater and excrement conveyed in sewers and recreational facilities.\n",
    "\n",
    "It will help people to get the awareness of the area and neighborhood before moving to a new city, state, country or place for their work or to start a fresh life.\n",
    "\n",
    "### The Location\n",
    "\n",
    "   Scarborough is a favorite destination for new immigrants in Canada to reside in. As a result, it is one of the most distinct and multicultural areas in the Greater Toronto Area, being home to various religious groups and places of worship. Although immigration has become a hot topic over the past few years with more governments seeking more constraints on immigrants and refugees, the general trend of immigration into Canada has been one of the rises.\n",
    "\n",
    "### Foursquare API\n",
    "\n",
    "   This project would use Four-square API as its prime data collecting source as it has a database of millions of places, notably their places API which provides the capacity to perform location search, location sharing and details about a business."
   ]
  }
 ],
 "metadata": {
  "kernelspec": {
   "display_name": "Python 3",
   "language": "python",
   "name": "python3"
  },
  "language_info": {
   "codemirror_mode": {
    "name": "ipython",
    "version": 3
   },
   "file_extension": ".py",
   "mimetype": "text/x-python",
   "name": "python",
   "nbconvert_exporter": "python",
   "pygments_lexer": "ipython3",
   "version": "3.7.6"
  }
 },
 "nbformat": 4,
 "nbformat_minor": 4
}
