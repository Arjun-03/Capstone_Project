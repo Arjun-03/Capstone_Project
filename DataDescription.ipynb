{
 "cells": [
  {
   "cell_type": "markdown",
   "metadata": {},
   "source": [
    "# THE BATTLE OF NEIGHBORHOODS\n",
    "\n",
    "## DESCRIPTION OF THE DATA\n",
    "\n",
    "For the Scarborough neighborhood data, a Wikipedia page exists that has all the information we need to explore and cluster the neighborhoods in Scarborough. We will have to scrape the Wikipedia page and wrangle the data, clean it, and then read it into a pandas dataframe so that it is in a structured format.\n",
    "\n",
    "The Wikipedia page that has to be scraped in order to get the necessary data is: https://en.wikipedia.org/wiki/List_of_postal_codes_of_Canada:_M\n",
    "\n",
    "Once the data is in a structured format, We can perform the analysis explore and cluster the neighborhoods in the city of Scarborough.\n",
    "\n",
    "\n",
    "### Foursquare API Data\n",
    "\n",
    "We will need data about different venues in different neighborhoods of specific borough. In order to gain that information we will use \"Foursquare\" locational information. Foursquare is a location data provider with information about all manner of venues and events within an area of interest. Such information includes venue names, locations, menus and even photos. As such, the foursquare location platform will be used as the sole data source since all the stated required information can be obtained through the API.\n",
    "\n",
    "After finding the list of neighborhoods, we then connect to the Foursquare API to gather information about venues inside each and every neighborhood. For each neighborhood, we have chosen the radius to be 100 meter.\n",
    "\n",
    "The data retrieved from Foursquare contained information of venues within a specified distance of the longitude and latitude of the postcodes. The information obtained per venue as follows:\n",
    "\n",
    "i)    Neighborhood\n",
    "\n",
    "ii)   Neighborhood Latitude\n",
    "\n",
    "iii)  Neighborhood Longitude\n",
    "\n",
    "iv)   Venue\n",
    "\n",
    "v)    Name of the venue\n",
    "\n",
    "vi)   Venue Latitude\n",
    "\n",
    "vii)  Venue Longitude\n",
    "\n",
    "viii) Venue Category"
   ]
  }
 ],
 "metadata": {
  "kernelspec": {
   "display_name": "Python 3",
   "language": "python",
   "name": "python3"
  },
  "language_info": {
   "codemirror_mode": {
    "name": "ipython",
    "version": 3
   },
   "file_extension": ".py",
   "mimetype": "text/x-python",
   "name": "python",
   "nbconvert_exporter": "python",
   "pygments_lexer": "ipython3",
   "version": "3.7.6"
  }
 },
 "nbformat": 4,
 "nbformat_minor": 4
}
